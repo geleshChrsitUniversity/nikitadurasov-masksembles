{
  "cells": [
    {
      "cell_type": "markdown",
      "metadata": {
        "id": "view-in-github",
        "colab_type": "text"
      },
      "source": [
        "<a href=\"https://colab.research.google.com/github/geleshChrsitUniversity/nikitadurasov-masksembles/blob/main/examples/generative/ipynb/text_generation_gpt.ipynb\" target=\"_parent\"><img src=\"https://colab.research.google.com/assets/colab-badge.svg\" alt=\"Open In Colab\"/></a>"
      ]
    },
    {
      "cell_type": "markdown",
      "metadata": {
        "id": "bev0oBC1kwmR"
      },
      "source": [
        "# GPT text generation from scratch with KerasHub\n",
        "\n",
        "**Author:** [Jesse Chan](https://github.com/jessechancy)<br>\n",
        "**Date created:** 2022/07/25<br>\n",
        "**Last modified:** 2022/07/25<br>\n",
        "**Description:** Using KerasHub to train a mini-GPT model for text generation."
      ]
    },
    {
      "cell_type": "markdown",
      "metadata": {
        "id": "SRukVLfYkwmW"
      },
      "source": [
        "## Introduction\n",
        "\n",
        "In this example, we will use KerasHub to build a scaled down Generative\n",
        "Pre-Trained (GPT) model. GPT is a Transformer-based model that allows you to generate\n",
        "sophisticated text from a prompt.\n",
        "\n",
        "We will train the model on the [simplebooks-92](https://arxiv.org/abs/1911.12391) corpus,\n",
        "which is a dataset made from several novels. It is a good dataset for this example since\n",
        "it has a small vocabulary and high word frequency, which is beneficial when training a\n",
        "model with few parameters.\n",
        "\n",
        "This example combines concepts from\n",
        "[Text generation with a miniature GPT](https://keras.io/examples/generative/text_generation_with_miniature_gpt/)\n",
        "with KerasHub abstractions. We will demonstrate how KerasHub tokenization, layers and\n",
        "metrics simplify the training\n",
        "process, and then show how to generate output text using the KerasHub sampling utilities.\n",
        "\n",
        "Note: If you are running this example on a Colab,\n",
        "make sure to enable GPU runtime for faster training.\n",
        "\n",
        "This example requires KerasHub. You can install it via the following command:\n",
        "`pip install keras-hub`"
      ]
    },
    {
      "cell_type": "markdown",
      "metadata": {
        "id": "kJuqhpPDkwmX"
      },
      "source": [
        "## Setup"
      ]
    },
    {
      "cell_type": "code",
      "execution_count": 1,
      "metadata": {
        "id": "zFlWUW_ekwmY",
        "outputId": "3c8c6964-1bce-481d-aed8-c29bf739754f",
        "colab": {
          "base_uri": "https://localhost:8080/"
        }
      },
      "outputs": [
        {
          "output_type": "stream",
          "name": "stdout",
          "text": [
            "\u001b[?25l   \u001b[90m━━━━━━━━━━━━━━━━━━━━━━━━━━━━━━━━━━━━━━━━\u001b[0m \u001b[32m0.0/947.9 kB\u001b[0m \u001b[31m?\u001b[0m eta \u001b[36m-:--:--\u001b[0m\r\u001b[2K   \u001b[91m━━━━━━━━━━━━━━━━━━━━━━━━━━━\u001b[0m\u001b[90m╺\u001b[0m\u001b[90m━━━━━━━━━━━━\u001b[0m \u001b[32m645.1/947.9 kB\u001b[0m \u001b[31m23.5 MB/s\u001b[0m eta \u001b[36m0:00:01\u001b[0m\r\u001b[2K   \u001b[90m━━━━━━━━━━━━━━━━━━━━━━━━━━━━━━━━━━━━━━━━\u001b[0m \u001b[32m947.9/947.9 kB\u001b[0m \u001b[31m17.0 MB/s\u001b[0m eta \u001b[36m0:00:00\u001b[0m\n",
            "\u001b[?25h\u001b[31mERROR: pip's dependency resolver does not currently take into account all the packages that are installed. This behaviour is the source of the following dependency conflicts.\n",
            "keras-nlp 0.21.1 requires keras-hub==0.21.1, but you have keras-hub 0.22.1 which is incompatible.\u001b[0m\u001b[31m\n",
            "\u001b[2K   \u001b[90m━━━━━━━━━━━━━━━━━━━━━━━━━━━━━━━━━━━━━━━━\u001b[0m \u001b[32m1.4/1.4 MB\u001b[0m \u001b[31m18.5 MB/s\u001b[0m eta \u001b[36m0:00:00\u001b[0m\n",
            "\u001b[?25h\u001b[31mERROR: pip's dependency resolver does not currently take into account all the packages that are installed. This behaviour is the source of the following dependency conflicts.\n",
            "keras-nlp 0.21.1 requires keras-hub==0.21.1, but you have keras-hub 0.22.1 which is incompatible.\u001b[0m\u001b[31m\n",
            "\u001b[0m"
          ]
        }
      ],
      "source": [
        "!pip install -q --upgrade keras-hub\n",
        "!pip install -q --upgrade keras  # Upgrade to Keras 3."
      ]
    },
    {
      "cell_type": "code",
      "execution_count": 2,
      "metadata": {
        "id": "beKCKqjVkwmY"
      },
      "outputs": [],
      "source": [
        "import os\n",
        "import keras_hub\n",
        "import keras\n",
        "\n",
        "import tensorflow.data as tf_data\n",
        "import tensorflow.strings as tf_strings"
      ]
    },
    {
      "cell_type": "markdown",
      "metadata": {
        "id": "snLhPNYHkwmZ"
      },
      "source": [
        "## Settings & hyperparameters"
      ]
    },
    {
      "cell_type": "code",
      "execution_count": 3,
      "metadata": {
        "id": "kq2iI1YkkwmZ"
      },
      "outputs": [],
      "source": [
        "# Data\n",
        "BATCH_SIZE = 64\n",
        "MIN_STRING_LEN = 512  # Strings shorter than this will be discarded\n",
        "SEQ_LEN = 128  # Length of training sequences, in tokens\n",
        "\n",
        "# Model\n",
        "EMBED_DIM = 256\n",
        "FEED_FORWARD_DIM = 128\n",
        "NUM_HEADS = 3\n",
        "NUM_LAYERS = 2\n",
        "VOCAB_SIZE = 5000  # Limits parameters in model.\n",
        "\n",
        "# Training\n",
        "EPOCHS = 5\n",
        "\n",
        "# Inference\n",
        "NUM_TOKENS_TO_GENERATE = 80"
      ]
    },
    {
      "cell_type": "markdown",
      "metadata": {
        "id": "0dTwKVcEkwma"
      },
      "source": [
        "## Load the data\n",
        "\n",
        "Now, let's download the dataset! The SimpleBooks dataset consists of 1,573 Gutenberg books, and has\n",
        "one of the smallest vocabulary size to word-level tokens ratio. It has a vocabulary size of ~98k,\n",
        "a third of WikiText-103's, with around the same number of tokens (~100M). This makes it easy to fit a small model."
      ]
    },
    {
      "cell_type": "code",
      "source": [
        "keras.utils.get_file(\n",
        "    origin=\"https://dldata-public.s3.us-east-2.amazonaws.com/simplebooks.zip\",\n",
        "    extract=True,\n",
        ")"
      ],
      "metadata": {
        "id": "VHNV0hb4o6qh",
        "outputId": "b3839f77-a2b8-4721-db1f-38616e703f5e",
        "colab": {
          "base_uri": "https://localhost:8080/",
          "height": 36
        }
      },
      "execution_count": 20,
      "outputs": [
        {
          "output_type": "execute_result",
          "data": {
            "text/plain": [
              "'/root/.keras/datasets/simplebooks.zip'"
            ],
            "application/vnd.google.colaboratory.intrinsic+json": {
              "type": "string"
            }
          },
          "metadata": {},
          "execution_count": 20
        }
      ]
    },
    {
      "cell_type": "code",
      "source": [
        "import os\n",
        "import shutil\n",
        "from tensorflow import keras\n",
        "import zipfile\n",
        "\n",
        "zip_path = os.path.expanduser(\"~/.keras/datasets/simplebooks.zip\")\n",
        "extract_path = os.path.expanduser(\"~/.keras/datasets/simplebooks\")\n",
        "\n",
        "# 1. Remove existing zip or folder if present\n",
        "if os.path.exists(zip_path):\n",
        "    if os.path.isdir(zip_path):\n",
        "        shutil.rmtree(zip_path)\n",
        "    else:\n",
        "        os.remove(zip_path)\n",
        "\n",
        "if os.path.exists(extract_path):\n",
        "    shutil.rmtree(extract_path)\n",
        "\n",
        "# 2. Download the ZIP\n",
        "zip_path = keras.utils.get_file(\n",
        "    fname=\"simplebooks.zip\",\n",
        "    origin=\"https://dldata-public.s3.us-east-2.amazonaws.com/simplebooks.zip\",\n",
        "    extract=False  # we will extract manually\n",
        ")\n",
        "\n",
        "# 3. Extract manually\n",
        "with zipfile.ZipFile(zip_path, 'r') as zip_ref:\n",
        "    zip_ref.extractall(extract_path)\n",
        "\n",
        "print(f\"Cleanly extracted to: {extract_path}\")\n"
      ],
      "metadata": {
        "id": "2U6-NcZoo97O",
        "outputId": "ae4768a4-9a6c-4fdd-f319-041b8b278424",
        "colab": {
          "base_uri": "https://localhost:8080/"
        }
      },
      "execution_count": 25,
      "outputs": [
        {
          "output_type": "stream",
          "name": "stdout",
          "text": [
            "Downloading data from https://dldata-public.s3.us-east-2.amazonaws.com/simplebooks.zip\n",
            "\u001b[1m282386239/282386239\u001b[0m \u001b[32m━━━━━━━━━━━━━━━━━━━━\u001b[0m\u001b[37m\u001b[0m \u001b[1m7s\u001b[0m 0us/step\n",
            "Cleanly extracted to: /root/.keras/datasets/simplebooks\n"
          ]
        }
      ]
    },
    {
      "cell_type": "code",
      "source": [
        "extract_path = \"~/.keras/datasets/simplebooks.zip/simplebooks/simplebooks-92-raw\"\n",
        "!ls ~/.keras/datasets/simplebooks/simplebooks/simplebooks-92-raw"
      ],
      "metadata": {
        "id": "EaduOhwIqY45",
        "outputId": "16456938-79d0-4c1a-847a-a07239afba50",
        "colab": {
          "base_uri": "https://localhost:8080/"
        }
      },
      "execution_count": 34,
      "outputs": [
        {
          "output_type": "stream",
          "name": "stdout",
          "text": [
            "test.txt  train.txt  valid.txt\n"
          ]
        }
      ]
    },
    {
      "cell_type": "code",
      "source": [
        "extract_path"
      ],
      "metadata": {
        "id": "lG-FUuJoqePF",
        "outputId": "e541026f-9067-466b-f0e2-2077bfe79c58",
        "colab": {
          "base_uri": "https://localhost:8080/",
          "height": 36
        }
      },
      "execution_count": 29,
      "outputs": [
        {
          "output_type": "execute_result",
          "data": {
            "text/plain": [
              "'~/.keras/datasets/simplebooks.zip/simplebooks/simplebooks-92-raw'"
            ],
            "application/vnd.google.colaboratory.intrinsic+json": {
              "type": "string"
            }
          },
          "metadata": {},
          "execution_count": 29
        }
      ]
    },
    {
      "cell_type": "code",
      "source": [
        "extract_path"
      ],
      "metadata": {
        "id": "O1qD02TOpr8z",
        "outputId": "f778149d-ecaa-475f-b17f-689897503fac",
        "colab": {
          "base_uri": "https://localhost:8080/",
          "height": 36
        }
      },
      "execution_count": 26,
      "outputs": [
        {
          "output_type": "execute_result",
          "data": {
            "text/plain": [
              "'/root/.keras/datasets/simplebooks'"
            ],
            "application/vnd.google.colaboratory.intrinsic+json": {
              "type": "string"
            }
          },
          "metadata": {},
          "execution_count": 26
        }
      ]
    },
    {
      "cell_type": "code",
      "execution_count": 37,
      "metadata": {
        "id": "84pzyXVjkwma"
      },
      "outputs": [],
      "source": [
        "\n",
        "dir = os.path.expanduser(\"~/.keras/datasets/simplebooks/simplebooks/\")\n",
        "\n",
        "# Load simplebooks-92 train set and filter out short lines.\n",
        "raw_train_ds = (\n",
        "    tf_data.TextLineDataset(dir + \"simplebooks-92-raw/train.txt\")\n",
        "    .filter(lambda x: tf_strings.length(x) > MIN_STRING_LEN)\n",
        "    .batch(BATCH_SIZE)\n",
        "    .shuffle(buffer_size=256)\n",
        ")\n",
        "\n",
        "# Load simplebooks-92 validation set and filter out short lines.\n",
        "raw_val_ds = (\n",
        "    tf_data.TextLineDataset(dir + \"simplebooks-92-raw/valid.txt\")\n",
        "    .filter(lambda x: tf_strings.length(x) > MIN_STRING_LEN)\n",
        "    .batch(BATCH_SIZE)\n",
        ")\n",
        "\n",
        "# Train tokenizer vocabulary\n",
        "vocab = keras_hub.tokenizers.compute_word_piece_vocabulary(\n",
        "    raw_train_ds,\n",
        "    vocabulary_size=VOCAB_SIZE,\n",
        "    lowercase=True,\n",
        "    reserved_tokens=[\"[PAD]\", \"[UNK]\", \"[BOS]\"],\n",
        ")"
      ]
    },
    {
      "cell_type": "markdown",
      "metadata": {
        "id": "TReOsgCWkwma"
      },
      "source": [
        "## Train the tokenizer\n",
        "\n",
        "We train the tokenizer from the training dataset for a vocabulary size of `VOCAB_SIZE`,\n",
        "which is a tuned hyperparameter. We want to limit the vocabulary as much as possible, as\n",
        "we will see later on\n",
        "that it has a large effect on the number of model parameters. We also don't want to include\n",
        "*too few* vocabulary terms, or there would be too many out-of-vocabulary (OOV) sub-words. In\n",
        "addition, three tokens are reserved in the vocabulary:\n",
        "\n",
        "- `\"[PAD]\"` for padding sequences to `SEQ_LEN`. This token has index 0 in both\n",
        "`reserved_tokens` and `vocab`, since `WordPieceTokenizer` (and other layers) consider\n",
        "`0`/`vocab[0]` as the default padding.\n",
        "- `\"[UNK]\"` for OOV sub-words, which should match the default `oov_token=\"[UNK]\"` in\n",
        "`WordPieceTokenizer`.\n",
        "- `\"[BOS]\"` stands for beginning of sentence, but here technically it is a token\n",
        "representing the beginning of each line of training data."
      ]
    },
    {
      "cell_type": "code",
      "source": [
        "!ls ~/.keras/datasets/simplebooks.zip/simplebooks/simplebooks-92-raw"
      ],
      "metadata": {
        "id": "k2zriKhaoXT2",
        "outputId": "3582c099-e534-43e3-b2fe-0cee88ab5a90",
        "colab": {
          "base_uri": "https://localhost:8080/"
        }
      },
      "execution_count": 19,
      "outputs": [
        {
          "output_type": "stream",
          "name": "stdout",
          "text": [
            "test.txt  train.txt  valid.txt\n"
          ]
        }
      ]
    },
    {
      "cell_type": "code",
      "source": [
        "!ls ~/.keras/datasets/simplebooks/"
      ],
      "metadata": {
        "id": "8D4AQEy-la1k",
        "outputId": "e331ff18-4f68-4375-83e3-cfd6aba0dbdf",
        "colab": {
          "base_uri": "https://localhost:8080/"
        }
      },
      "execution_count": 18,
      "outputs": [
        {
          "output_type": "stream",
          "name": "stdout",
          "text": [
            "ls: cannot access '/root/.keras/datasets/simplebooks/': No such file or directory\n"
          ]
        }
      ]
    },
    {
      "cell_type": "code",
      "source": [
        "!ls  ~/.keras/datasets/simplebooks_extracted/simplebooks/simplebooks-92-raw/"
      ],
      "metadata": {
        "id": "Ib9dp6dYlRyA",
        "outputId": "77d25d9e-adfc-4cab-e3c3-c82ce95f5d18",
        "colab": {
          "base_uri": "https://localhost:8080/"
        }
      },
      "execution_count": 6,
      "outputs": [
        {
          "output_type": "stream",
          "name": "stdout",
          "text": [
            "ls: cannot access '/root/.keras/datasets/simplebooks_extracted/simplebooks/simplebooks-92-raw/': No such file or directory\n"
          ]
        }
      ]
    },
    {
      "cell_type": "code",
      "execution_count": 39,
      "metadata": {
        "id": "JTFzs6tUkwma"
      },
      "outputs": [],
      "source": [
        "# Train tokenizer vocabulary\n",
        "vocab = keras_hub.tokenizers.compute_word_piece_vocabulary(\n",
        "    raw_train_ds,\n",
        "    vocabulary_size=VOCAB_SIZE,\n",
        "    lowercase=True,\n",
        "    reserved_tokens=[\"[PAD]\", \"[UNK]\", \"[BOS]\"],\n",
        ")"
      ]
    },
    {
      "cell_type": "markdown",
      "metadata": {
        "id": "fv9mmTTqkwmb"
      },
      "source": [
        "## Load tokenizer\n",
        "\n",
        "We use the vocabulary data to initialize\n",
        "`keras_hub.tokenizers.WordPieceTokenizer`. WordPieceTokenizer is an efficient\n",
        "implementation of the WordPiece algorithm used by BERT and other models. It will strip,\n",
        "lower-case and do other irreversible preprocessing operations."
      ]
    },
    {
      "cell_type": "code",
      "execution_count": 40,
      "metadata": {
        "id": "4IEDnbFgkwmb"
      },
      "outputs": [],
      "source": [
        "tokenizer = keras_hub.tokenizers.WordPieceTokenizer(\n",
        "    vocabulary=vocab,\n",
        "    sequence_length=SEQ_LEN,\n",
        "    lowercase=True,\n",
        ")"
      ]
    },
    {
      "cell_type": "markdown",
      "metadata": {
        "id": "Be5Sp7iEkwmb"
      },
      "source": [
        "## Tokenize data\n",
        "\n",
        "We preprocess the dataset by tokenizing and splitting it into `features` and `labels`."
      ]
    },
    {
      "cell_type": "code",
      "execution_count": 41,
      "metadata": {
        "id": "XYoghzYskwmb"
      },
      "outputs": [],
      "source": [
        "# packer adds a start token\n",
        "start_packer = keras_hub.layers.StartEndPacker(\n",
        "    sequence_length=SEQ_LEN,\n",
        "    start_value=tokenizer.token_to_id(\"[BOS]\"),\n",
        ")\n",
        "\n",
        "\n",
        "def preprocess(inputs):\n",
        "    outputs = tokenizer(inputs)\n",
        "    features = start_packer(outputs)\n",
        "    labels = outputs\n",
        "    return features, labels\n",
        "\n",
        "\n",
        "# Tokenize and split into train and label sequences.\n",
        "train_ds = raw_train_ds.map(preprocess, num_parallel_calls=tf_data.AUTOTUNE).prefetch(\n",
        "    tf_data.AUTOTUNE\n",
        ")\n",
        "val_ds = raw_val_ds.map(preprocess, num_parallel_calls=tf_data.AUTOTUNE).prefetch(\n",
        "    tf_data.AUTOTUNE\n",
        ")"
      ]
    },
    {
      "cell_type": "markdown",
      "metadata": {
        "id": "IaHBE3Rfkwmb"
      },
      "source": [
        "## Build the model\n",
        "\n",
        "We create our scaled down GPT model with the following layers:\n",
        "\n",
        "- One `keras_hub.layers.TokenAndPositionEmbedding` layer, which combines the embedding\n",
        "for the token and its position.\n",
        "- Multiple `keras_hub.layers.TransformerDecoder` layers, with the default causal masking.\n",
        "The layer has no cross-attention when run with decoder sequence only.\n",
        "- One final dense linear layer"
      ]
    },
    {
      "cell_type": "code",
      "execution_count": 42,
      "metadata": {
        "id": "pK9qtEzjkwmb"
      },
      "outputs": [],
      "source": [
        "inputs = keras.layers.Input(shape=(None,), dtype=\"int32\")\n",
        "# Embedding.\n",
        "embedding_layer = keras_hub.layers.TokenAndPositionEmbedding(\n",
        "    vocabulary_size=VOCAB_SIZE,\n",
        "    sequence_length=SEQ_LEN,\n",
        "    embedding_dim=EMBED_DIM,\n",
        "    mask_zero=True,\n",
        ")\n",
        "x = embedding_layer(inputs)\n",
        "# Transformer decoders.\n",
        "for _ in range(NUM_LAYERS):\n",
        "    decoder_layer = keras_hub.layers.TransformerDecoder(\n",
        "        num_heads=NUM_HEADS,\n",
        "        intermediate_dim=FEED_FORWARD_DIM,\n",
        "    )\n",
        "    x = decoder_layer(x)  # Giving one argument only skips cross-attention.\n",
        "# Output.\n",
        "outputs = keras.layers.Dense(VOCAB_SIZE)(x)\n",
        "model = keras.Model(inputs=inputs, outputs=outputs)\n",
        "loss_fn = keras.losses.SparseCategoricalCrossentropy(from_logits=True)\n",
        "perplexity = keras_hub.metrics.Perplexity(from_logits=True, mask_token_id=0)\n",
        "model.compile(optimizer=\"adam\", loss=loss_fn, metrics=[perplexity])"
      ]
    },
    {
      "cell_type": "markdown",
      "metadata": {
        "id": "f21ua758kwmb"
      },
      "source": [
        "Let's take a look at our model summary - a large majority of the\n",
        "parameters are in the `token_and_position_embedding` and the output `dense` layer!\n",
        "This means that the vocabulary size (`VOCAB_SIZE`) has a large effect on the size of the model,\n",
        "while the number of Transformer decoder layers (`NUM_LAYERS`) doesn't affect it as much."
      ]
    },
    {
      "cell_type": "code",
      "execution_count": 43,
      "metadata": {
        "id": "eIfKp1drkwmb",
        "outputId": "6f5950f2-d4ca-4a7d-f856-4e7189dd7742",
        "colab": {
          "base_uri": "https://localhost:8080/",
          "height": 337
        }
      },
      "outputs": [
        {
          "output_type": "display_data",
          "data": {
            "text/plain": [
              "\u001b[1mModel: \"functional\"\u001b[0m\n"
            ],
            "text/html": [
              "<pre style=\"white-space:pre;overflow-x:auto;line-height:normal;font-family:Menlo,'DejaVu Sans Mono',consolas,'Courier New',monospace\"><span style=\"font-weight: bold\">Model: \"functional\"</span>\n",
              "</pre>\n"
            ]
          },
          "metadata": {}
        },
        {
          "output_type": "display_data",
          "data": {
            "text/plain": [
              "┏━━━━━━━━━━━━━━━━━━━━━━━━━━━━━━━━━┳━━━━━━━━━━━━━━━━━━━━━━━━┳━━━━━━━━━━━━━━━┓\n",
              "┃\u001b[1m \u001b[0m\u001b[1mLayer (type)                   \u001b[0m\u001b[1m \u001b[0m┃\u001b[1m \u001b[0m\u001b[1mOutput Shape          \u001b[0m\u001b[1m \u001b[0m┃\u001b[1m \u001b[0m\u001b[1m      Param #\u001b[0m\u001b[1m \u001b[0m┃\n",
              "┡━━━━━━━━━━━━━━━━━━━━━━━━━━━━━━━━━╇━━━━━━━━━━━━━━━━━━━━━━━━╇━━━━━━━━━━━━━━━┩\n",
              "│ input_layer (\u001b[38;5;33mInputLayer\u001b[0m)        │ (\u001b[38;5;45mNone\u001b[0m, \u001b[38;5;45mNone\u001b[0m)           │             \u001b[38;5;34m0\u001b[0m │\n",
              "├─────────────────────────────────┼────────────────────────┼───────────────┤\n",
              "│ token_and_position_embedding    │ (\u001b[38;5;45mNone\u001b[0m, \u001b[38;5;45mNone\u001b[0m, \u001b[38;5;34m256\u001b[0m)      │     \u001b[38;5;34m1,312,768\u001b[0m │\n",
              "│ (\u001b[38;5;33mTokenAndPositionEmbedding\u001b[0m)     │                        │               │\n",
              "├─────────────────────────────────┼────────────────────────┼───────────────┤\n",
              "│ transformer_decoder             │ (\u001b[38;5;45mNone\u001b[0m, \u001b[38;5;45mNone\u001b[0m, \u001b[38;5;34m256\u001b[0m)      │       \u001b[38;5;34m329,085\u001b[0m │\n",
              "│ (\u001b[38;5;33mTransformerDecoder\u001b[0m)            │                        │               │\n",
              "├─────────────────────────────────┼────────────────────────┼───────────────┤\n",
              "│ transformer_decoder_1           │ (\u001b[38;5;45mNone\u001b[0m, \u001b[38;5;45mNone\u001b[0m, \u001b[38;5;34m256\u001b[0m)      │       \u001b[38;5;34m329,085\u001b[0m │\n",
              "│ (\u001b[38;5;33mTransformerDecoder\u001b[0m)            │                        │               │\n",
              "├─────────────────────────────────┼────────────────────────┼───────────────┤\n",
              "│ dense (\u001b[38;5;33mDense\u001b[0m)                   │ (\u001b[38;5;45mNone\u001b[0m, \u001b[38;5;45mNone\u001b[0m, \u001b[38;5;34m5000\u001b[0m)     │     \u001b[38;5;34m1,285,000\u001b[0m │\n",
              "└─────────────────────────────────┴────────────────────────┴───────────────┘\n"
            ],
            "text/html": [
              "<pre style=\"white-space:pre;overflow-x:auto;line-height:normal;font-family:Menlo,'DejaVu Sans Mono',consolas,'Courier New',monospace\">┏━━━━━━━━━━━━━━━━━━━━━━━━━━━━━━━━━┳━━━━━━━━━━━━━━━━━━━━━━━━┳━━━━━━━━━━━━━━━┓\n",
              "┃<span style=\"font-weight: bold\"> Layer (type)                    </span>┃<span style=\"font-weight: bold\"> Output Shape           </span>┃<span style=\"font-weight: bold\">       Param # </span>┃\n",
              "┡━━━━━━━━━━━━━━━━━━━━━━━━━━━━━━━━━╇━━━━━━━━━━━━━━━━━━━━━━━━╇━━━━━━━━━━━━━━━┩\n",
              "│ input_layer (<span style=\"color: #0087ff; text-decoration-color: #0087ff\">InputLayer</span>)        │ (<span style=\"color: #00d7ff; text-decoration-color: #00d7ff\">None</span>, <span style=\"color: #00d7ff; text-decoration-color: #00d7ff\">None</span>)           │             <span style=\"color: #00af00; text-decoration-color: #00af00\">0</span> │\n",
              "├─────────────────────────────────┼────────────────────────┼───────────────┤\n",
              "│ token_and_position_embedding    │ (<span style=\"color: #00d7ff; text-decoration-color: #00d7ff\">None</span>, <span style=\"color: #00d7ff; text-decoration-color: #00d7ff\">None</span>, <span style=\"color: #00af00; text-decoration-color: #00af00\">256</span>)      │     <span style=\"color: #00af00; text-decoration-color: #00af00\">1,312,768</span> │\n",
              "│ (<span style=\"color: #0087ff; text-decoration-color: #0087ff\">TokenAndPositionEmbedding</span>)     │                        │               │\n",
              "├─────────────────────────────────┼────────────────────────┼───────────────┤\n",
              "│ transformer_decoder             │ (<span style=\"color: #00d7ff; text-decoration-color: #00d7ff\">None</span>, <span style=\"color: #00d7ff; text-decoration-color: #00d7ff\">None</span>, <span style=\"color: #00af00; text-decoration-color: #00af00\">256</span>)      │       <span style=\"color: #00af00; text-decoration-color: #00af00\">329,085</span> │\n",
              "│ (<span style=\"color: #0087ff; text-decoration-color: #0087ff\">TransformerDecoder</span>)            │                        │               │\n",
              "├─────────────────────────────────┼────────────────────────┼───────────────┤\n",
              "│ transformer_decoder_1           │ (<span style=\"color: #00d7ff; text-decoration-color: #00d7ff\">None</span>, <span style=\"color: #00d7ff; text-decoration-color: #00d7ff\">None</span>, <span style=\"color: #00af00; text-decoration-color: #00af00\">256</span>)      │       <span style=\"color: #00af00; text-decoration-color: #00af00\">329,085</span> │\n",
              "│ (<span style=\"color: #0087ff; text-decoration-color: #0087ff\">TransformerDecoder</span>)            │                        │               │\n",
              "├─────────────────────────────────┼────────────────────────┼───────────────┤\n",
              "│ dense (<span style=\"color: #0087ff; text-decoration-color: #0087ff\">Dense</span>)                   │ (<span style=\"color: #00d7ff; text-decoration-color: #00d7ff\">None</span>, <span style=\"color: #00d7ff; text-decoration-color: #00d7ff\">None</span>, <span style=\"color: #00af00; text-decoration-color: #00af00\">5000</span>)     │     <span style=\"color: #00af00; text-decoration-color: #00af00\">1,285,000</span> │\n",
              "└─────────────────────────────────┴────────────────────────┴───────────────┘\n",
              "</pre>\n"
            ]
          },
          "metadata": {}
        },
        {
          "output_type": "display_data",
          "data": {
            "text/plain": [
              "\u001b[1m Total params: \u001b[0m\u001b[38;5;34m3,255,938\u001b[0m (12.42 MB)\n"
            ],
            "text/html": [
              "<pre style=\"white-space:pre;overflow-x:auto;line-height:normal;font-family:Menlo,'DejaVu Sans Mono',consolas,'Courier New',monospace\"><span style=\"font-weight: bold\"> Total params: </span><span style=\"color: #00af00; text-decoration-color: #00af00\">3,255,938</span> (12.42 MB)\n",
              "</pre>\n"
            ]
          },
          "metadata": {}
        },
        {
          "output_type": "display_data",
          "data": {
            "text/plain": [
              "\u001b[1m Trainable params: \u001b[0m\u001b[38;5;34m3,255,938\u001b[0m (12.42 MB)\n"
            ],
            "text/html": [
              "<pre style=\"white-space:pre;overflow-x:auto;line-height:normal;font-family:Menlo,'DejaVu Sans Mono',consolas,'Courier New',monospace\"><span style=\"font-weight: bold\"> Trainable params: </span><span style=\"color: #00af00; text-decoration-color: #00af00\">3,255,938</span> (12.42 MB)\n",
              "</pre>\n"
            ]
          },
          "metadata": {}
        },
        {
          "output_type": "display_data",
          "data": {
            "text/plain": [
              "\u001b[1m Non-trainable params: \u001b[0m\u001b[38;5;34m0\u001b[0m (0.00 B)\n"
            ],
            "text/html": [
              "<pre style=\"white-space:pre;overflow-x:auto;line-height:normal;font-family:Menlo,'DejaVu Sans Mono',consolas,'Courier New',monospace\"><span style=\"font-weight: bold\"> Non-trainable params: </span><span style=\"color: #00af00; text-decoration-color: #00af00\">0</span> (0.00 B)\n",
              "</pre>\n"
            ]
          },
          "metadata": {}
        }
      ],
      "source": [
        "model.summary()"
      ]
    },
    {
      "cell_type": "markdown",
      "metadata": {
        "id": "2iE5RYMbkwmc"
      },
      "source": [
        "## Training\n",
        "\n",
        "Now that we have our model, let's train it with the `fit()` method."
      ]
    },
    {
      "cell_type": "code",
      "execution_count": 44,
      "metadata": {
        "id": "Pgdnn6Bckwmc",
        "outputId": "36bc67e9-cbe7-42d6-a7cd-517e57f74560",
        "colab": {
          "base_uri": "https://localhost:8080/"
        }
      },
      "outputs": [
        {
          "output_type": "stream",
          "name": "stdout",
          "text": [
            "Epoch 1/5\n"
          ]
        },
        {
          "output_type": "stream",
          "name": "stderr",
          "text": [
            "/usr/local/lib/python3.12/dist-packages/keras/src/layers/layer.py:970: UserWarning: Layer 'position_embedding' (of type PositionEmbedding) was passed an input with a mask attached to it. However, this layer does not support masking and will therefore destroy the mask information. Downstream layers will not see the mask.\n",
            "  warnings.warn(\n",
            "/usr/local/lib/python3.12/dist-packages/keras/src/layers/layer.py:970: UserWarning: Layer 'query' (of type EinsumDense) was passed an input with a mask attached to it. However, this layer does not support masking and will therefore destroy the mask information. Downstream layers will not see the mask.\n",
            "  warnings.warn(\n",
            "/usr/local/lib/python3.12/dist-packages/keras/src/layers/layer.py:970: UserWarning: Layer 'key' (of type EinsumDense) was passed an input with a mask attached to it. However, this layer does not support masking and will therefore destroy the mask information. Downstream layers will not see the mask.\n",
            "  warnings.warn(\n",
            "/usr/local/lib/python3.12/dist-packages/keras/src/layers/layer.py:970: UserWarning: Layer 'value' (of type EinsumDense) was passed an input with a mask attached to it. However, this layer does not support masking and will therefore destroy the mask information. Downstream layers will not see the mask.\n",
            "  warnings.warn(\n"
          ]
        },
        {
          "output_type": "stream",
          "name": "stdout",
          "text": [
            "   2445/Unknown \u001b[1m137s\u001b[0m 49ms/step - loss: 5.0188 - perplexity: 184.3591"
          ]
        },
        {
          "output_type": "stream",
          "name": "stderr",
          "text": [
            "/usr/local/lib/python3.12/dist-packages/keras/src/trainers/epoch_iterator.py:164: UserWarning: Your input ran out of data; interrupting training. Make sure that your dataset or generator can generate at least `steps_per_epoch * epochs` batches. You may need to use the `.repeat()` function when building your dataset.\n",
            "  self._interrupted_warning()\n"
          ]
        },
        {
          "output_type": "stream",
          "name": "stdout",
          "text": [
            "\b\b\b\b\b\b\b\b\b\b\b\b\b\b\b\b\b\b\b\b\b\b\b\b\b\b\b\b\b\b\b\b\b\b\b\b\b\b\b\b\b\b\b\b\b\b\b\b\b\b\b\b\b\b\b\b\b\b\b\b\b\b\b\b\b\b\b\b\r\u001b[1m2445/2445\u001b[0m \u001b[32m━━━━━━━━━━━━━━━━━━━━\u001b[0m\u001b[37m\u001b[0m \u001b[1m140s\u001b[0m 50ms/step - loss: 4.5950 - perplexity: 99.0228 - val_loss: 4.2079 - val_perplexity: 67.3345\n",
            "Epoch 2/5\n",
            "\u001b[1m2445/2445\u001b[0m \u001b[32m━━━━━━━━━━━━━━━━━━━━\u001b[0m\u001b[37m\u001b[0m \u001b[1m127s\u001b[0m 47ms/step - loss: 4.1148 - perplexity: 61.2686 - val_loss: 4.0577 - val_perplexity: 57.9540\n",
            "Epoch 3/5\n",
            "\u001b[1m2445/2445\u001b[0m \u001b[32m━━━━━━━━━━━━━━━━━━━━\u001b[0m\u001b[37m\u001b[0m \u001b[1m142s\u001b[0m 55ms/step - loss: 3.9964 - perplexity: 54.4289 - val_loss: 3.9817 - val_perplexity: 53.6805\n",
            "Epoch 4/5\n",
            "\u001b[1m2445/2445\u001b[0m \u001b[32m━━━━━━━━━━━━━━━━━━━━\u001b[0m\u001b[37m\u001b[0m \u001b[1m122s\u001b[0m 47ms/step - loss: 3.9328 - perplexity: 51.0753 - val_loss: 3.9766 - val_perplexity: 53.4028\n",
            "Epoch 5/5\n",
            "\u001b[1m2445/2445\u001b[0m \u001b[32m━━━━━━━━━━━━━━━━━━━━\u001b[0m\u001b[37m\u001b[0m \u001b[1m121s\u001b[0m 47ms/step - loss: 3.8906 - perplexity: 48.9662 - val_loss: 3.9586 - val_perplexity: 52.4534\n"
          ]
        },
        {
          "output_type": "execute_result",
          "data": {
            "text/plain": [
              "<keras.src.callbacks.history.History at 0x78092464b920>"
            ]
          },
          "metadata": {},
          "execution_count": 44
        }
      ],
      "source": [
        "model.fit(train_ds, validation_data=val_ds, epochs=EPOCHS)"
      ]
    },
    {
      "cell_type": "markdown",
      "metadata": {
        "id": "jPornHBRkwmc"
      },
      "source": [
        "## Inference\n",
        "\n",
        "With our trained model, we can test it out to gauge its performance. To do this\n",
        "we can seed our model with an input sequence starting with the `\"[BOS]\"` token,\n",
        "and progressively sample the model by making predictions for each subsequent\n",
        "token in a loop.\n",
        "\n",
        "To start lets build a prompt with the same shape as our model inputs, containing\n",
        "only the `\"[BOS]\"` token."
      ]
    },
    {
      "cell_type": "code",
      "execution_count": 45,
      "metadata": {
        "id": "C5vu9vC_kwmc",
        "outputId": "2a3a7fca-7124-430c-9bdb-09018f3dee47",
        "colab": {
          "base_uri": "https://localhost:8080/"
        }
      },
      "outputs": [
        {
          "output_type": "execute_result",
          "data": {
            "text/plain": [
              "<tf.Tensor: shape=(1, 128), dtype=int32, numpy=\n",
              "array([[2, 0, 0, 0, 0, 0, 0, 0, 0, 0, 0, 0, 0, 0, 0, 0, 0, 0, 0, 0, 0, 0,\n",
              "        0, 0, 0, 0, 0, 0, 0, 0, 0, 0, 0, 0, 0, 0, 0, 0, 0, 0, 0, 0, 0, 0,\n",
              "        0, 0, 0, 0, 0, 0, 0, 0, 0, 0, 0, 0, 0, 0, 0, 0, 0, 0, 0, 0, 0, 0,\n",
              "        0, 0, 0, 0, 0, 0, 0, 0, 0, 0, 0, 0, 0, 0, 0, 0, 0, 0, 0, 0, 0, 0,\n",
              "        0, 0, 0, 0, 0, 0, 0, 0, 0, 0, 0, 0, 0, 0, 0, 0, 0, 0, 0, 0, 0, 0,\n",
              "        0, 0, 0, 0, 0, 0, 0, 0, 0, 0, 0, 0, 0, 0, 0, 0, 0, 0]],\n",
              "      dtype=int32)>"
            ]
          },
          "metadata": {},
          "execution_count": 45
        }
      ],
      "source": [
        "# The \"packer\" layers adds the [BOS] token for us.\n",
        "prompt_tokens = start_packer(tokenizer([\"\"]))\n",
        "prompt_tokens"
      ]
    },
    {
      "cell_type": "markdown",
      "metadata": {
        "id": "pXQEhpRIkwmc"
      },
      "source": [
        "We will use the `keras_hub.samplers` module for inference, which requires a\n",
        "callback function wrapping the model we just trained. This wrapper calls\n",
        "the model and returns the logit predictions for the current token we are\n",
        "generating.\n",
        "\n",
        "Note: There are two pieces of more advanced functionality available when\n",
        "defining your callback. The first is the ability to take in a `cache` of states\n",
        "computed in previous generation steps, which can be used to speed up generation.\n",
        "The second is the ability to output the final dense \"hidden state\" of each\n",
        "generated token. This is used by `keras_hub.samplers.ContrastiveSampler`, which\n",
        "avoids repetition by penalizing repeated hidden states. Both are optional, and\n",
        "we will ignore them for now."
      ]
    },
    {
      "cell_type": "code",
      "execution_count": null,
      "metadata": {
        "id": "RKZYAswtkwmc"
      },
      "outputs": [],
      "source": [
        "\n",
        "def next(prompt, cache, index):\n",
        "    logits = model(prompt)[:, index - 1, :]\n",
        "    # Ignore hidden states for now; only needed for contrastive search.\n",
        "    hidden_states = None\n",
        "    return logits, hidden_states, cache\n"
      ]
    },
    {
      "cell_type": "markdown",
      "metadata": {
        "id": "NRSiqO4Ykwmc"
      },
      "source": [
        "Creating the wrapper function is the most complex part of using these functions. Now that\n",
        "it's done, let's test out the different utilities, starting with greedy search."
      ]
    },
    {
      "cell_type": "markdown",
      "metadata": {
        "id": "gQajPee1kwmc"
      },
      "source": [
        "### Greedy search\n",
        "\n",
        "We greedily pick the most probable token at each timestep. In other words, we get the\n",
        "argmax of the model output."
      ]
    },
    {
      "cell_type": "code",
      "execution_count": null,
      "metadata": {
        "id": "ZPMo9j0Okwmc"
      },
      "outputs": [],
      "source": [
        "sampler = keras_hub.samplers.GreedySampler()\n",
        "output_tokens = sampler(\n",
        "    next=next,\n",
        "    prompt=prompt_tokens,\n",
        "    index=1,  # Start sampling immediately after the [BOS] token.\n",
        ")\n",
        "txt = tokenizer.detokenize(output_tokens)\n",
        "print(f\"Greedy search generated text: \\n{txt}\\n\")"
      ]
    },
    {
      "cell_type": "markdown",
      "metadata": {
        "id": "mnd5ptw3kwmc"
      },
      "source": [
        "As you can see, greedy search starts out making some sense, but quickly starts repeating\n",
        "itself. This is a common problem with text generation that can be fixed by some of the\n",
        "probabilistic text generation utilities shown later on!"
      ]
    },
    {
      "cell_type": "markdown",
      "metadata": {
        "id": "tbhRhpKikwmc"
      },
      "source": [
        "### Beam search\n",
        "\n",
        "At a high-level, beam search keeps track of the `num_beams` most probable sequences at\n",
        "each timestep, and predicts the best next token from all sequences. It is an improvement\n",
        "over greedy search since it stores more possibilities. However, it is less efficient than\n",
        "greedy search since it has to compute and store multiple potential sequences.\n",
        "\n",
        "**Note:** beam search with `num_beams=1` is identical to greedy search."
      ]
    },
    {
      "cell_type": "code",
      "execution_count": null,
      "metadata": {
        "id": "TNcYaKa1kwmd"
      },
      "outputs": [],
      "source": [
        "sampler = keras_hub.samplers.BeamSampler(num_beams=10)\n",
        "output_tokens = sampler(\n",
        "    next=next,\n",
        "    prompt=prompt_tokens,\n",
        "    index=1,\n",
        ")\n",
        "txt = tokenizer.detokenize(output_tokens)\n",
        "print(f\"Beam search generated text: \\n{txt}\\n\")"
      ]
    },
    {
      "cell_type": "markdown",
      "metadata": {
        "id": "qHyB54_ekwmd"
      },
      "source": [
        "Similar to greedy search, beam search quickly starts repeating itself, since it is still\n",
        "a deterministic method."
      ]
    },
    {
      "cell_type": "markdown",
      "metadata": {
        "id": "ThO0015Mkwmd"
      },
      "source": [
        "### Random search\n",
        "\n",
        "Random search is our first probabilistic method. At each time step, it samples the next\n",
        "token using the softmax probabilities provided by the model."
      ]
    },
    {
      "cell_type": "code",
      "execution_count": null,
      "metadata": {
        "id": "3C0esy-vkwmd"
      },
      "outputs": [],
      "source": [
        "sampler = keras_hub.samplers.RandomSampler()\n",
        "output_tokens = sampler(\n",
        "    next=next,\n",
        "    prompt=prompt_tokens,\n",
        "    index=1,\n",
        ")\n",
        "txt = tokenizer.detokenize(output_tokens)\n",
        "print(f\"Random search generated text: \\n{txt}\\n\")"
      ]
    },
    {
      "cell_type": "markdown",
      "metadata": {
        "id": "Ql4HZb8ukwme"
      },
      "source": [
        "Voilà, no repetitions! However, with random search, we may see some nonsensical words\n",
        "appearing since any word in the vocabulary has a chance of appearing with this sampling\n",
        "method. This is fixed by our next search utility, top-k search."
      ]
    },
    {
      "cell_type": "markdown",
      "metadata": {
        "id": "0wUCazQYkwme"
      },
      "source": [
        "### Top-K search\n",
        "\n",
        "Similar to random search, we sample the next token from the probability distribution\n",
        "provided by the model. The only difference is that here, we select out the top `k` most\n",
        "probable tokens, and distribute the probability mass over them before sampling. This way,\n",
        "we won't be sampling from low probability tokens, and hence we would have less\n",
        "nonsensical words!"
      ]
    },
    {
      "cell_type": "code",
      "execution_count": null,
      "metadata": {
        "id": "OyDOBRZikwme"
      },
      "outputs": [],
      "source": [
        "sampler = keras_hub.samplers.TopKSampler(k=10)\n",
        "output_tokens = sampler(\n",
        "    next=next,\n",
        "    prompt=prompt_tokens,\n",
        "    index=1,\n",
        ")\n",
        "txt = tokenizer.detokenize(output_tokens)\n",
        "print(f\"Top-K search generated text: \\n{txt}\\n\")"
      ]
    },
    {
      "cell_type": "markdown",
      "metadata": {
        "id": "sk7y-Eelkwme"
      },
      "source": [
        "### Top-P search\n",
        "\n",
        "Even with the top-k search, there is something to improve upon. With top-k search, the\n",
        "number `k` is fixed, which means it selects the same number of tokens for any probability\n",
        "distribution. Consider two scenarios, one where the probability mass is concentrated over\n",
        "2 words and another where the probability mass is evenly concentrated across 10. Should\n",
        "we choose `k=2` or `k=10`? There is no one size that fits all `k` here.\n",
        "\n",
        "This is where top-p search comes in! Instead of choosing a `k`, we choose a probability\n",
        "`p` that we want the probabilities of the top tokens to sum up to. This way, we can\n",
        "dynamically adjust the `k` based on the probability distribution. By setting `p=0.9`, if\n",
        "90% of the probability mass is concentrated on the top 2 tokens, we can filter out the\n",
        "top 2 tokens to sample from. If instead the 90% is distributed over 10 tokens, it will\n",
        "similarly filter out the top 10 tokens to sample from."
      ]
    },
    {
      "cell_type": "code",
      "execution_count": null,
      "metadata": {
        "id": "8jTcpErVkwme"
      },
      "outputs": [],
      "source": [
        "sampler = keras_hub.samplers.TopPSampler(p=0.5)\n",
        "output_tokens = sampler(\n",
        "    next=next,\n",
        "    prompt=prompt_tokens,\n",
        "    index=1,\n",
        ")\n",
        "txt = tokenizer.detokenize(output_tokens)\n",
        "print(f\"Top-P search generated text: \\n{txt}\\n\")"
      ]
    },
    {
      "cell_type": "markdown",
      "metadata": {
        "id": "EYikIlbokwmm"
      },
      "source": [
        "### Using callbacks for text generation\n",
        "\n",
        "We can also wrap the utilities in a callback, which allows you to print out a prediction\n",
        "sequence for every epoch of the model! Here is an example of a callback for top-k search:"
      ]
    },
    {
      "cell_type": "code",
      "execution_count": null,
      "metadata": {
        "id": "fISwZJFokwmn"
      },
      "outputs": [],
      "source": [
        "\n",
        "class TopKTextGenerator(keras.callbacks.Callback):\n",
        "    \"\"\"A callback to generate text from a trained model using top-k.\"\"\"\n",
        "\n",
        "    def __init__(self, k):\n",
        "        self.sampler = keras_hub.samplers.TopKSampler(k)\n",
        "\n",
        "    def on_epoch_end(self, epoch, logs=None):\n",
        "        output_tokens = self.sampler(\n",
        "            next=next,\n",
        "            prompt=prompt_tokens,\n",
        "            index=1,\n",
        "        )\n",
        "        txt = tokenizer.detokenize(output_tokens)\n",
        "        print(f\"Top-K search generated text: \\n{txt}\\n\")\n",
        "\n",
        "\n",
        "text_generation_callback = TopKTextGenerator(k=10)\n",
        "# Dummy training loop to demonstrate callback.\n",
        "model.fit(train_ds.take(1), verbose=2, epochs=2, callbacks=[text_generation_callback])"
      ]
    },
    {
      "cell_type": "markdown",
      "metadata": {
        "id": "tz9xIHjJkwmn"
      },
      "source": [
        "## Conclusion\n",
        "\n",
        "To recap, in this example, we use KerasHub layers to train a sub-word vocabulary,\n",
        "tokenize training data, create a miniature GPT model, and perform inference with the\n",
        "text generation library.\n",
        "\n",
        "If you would like to understand how Transformers work, or learn more about training the\n",
        "full GPT model, here are some further readings:\n",
        "\n",
        "- Attention Is All You Need [Vaswani et al., 2017](https://arxiv.org/abs/1706.03762)\n",
        "- GPT-3 Paper [Brown et al., 2020](https://arxiv.org/abs/2005.14165)"
      ]
    }
  ],
  "metadata": {
    "accelerator": "GPU",
    "colab": {
      "name": "text_generation_gpt",
      "provenance": [],
      "toc_visible": true,
      "include_colab_link": true
    },
    "kernelspec": {
      "display_name": "Python 3",
      "language": "python",
      "name": "python3"
    },
    "language_info": {
      "codemirror_mode": {
        "name": "ipython",
        "version": 3
      },
      "file_extension": ".py",
      "mimetype": "text/x-python",
      "name": "python",
      "nbconvert_exporter": "python",
      "pygments_lexer": "ipython3",
      "version": "3.7.0"
    }
  },
  "nbformat": 4,
  "nbformat_minor": 0
}