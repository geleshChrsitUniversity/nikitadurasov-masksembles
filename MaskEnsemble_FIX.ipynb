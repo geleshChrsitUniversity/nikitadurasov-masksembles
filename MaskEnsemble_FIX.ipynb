{
  "nbformat": 4,
  "nbformat_minor": 0,
  "metadata": {
    "colab": {
      "provenance": [],
      "authorship_tag": "ABX9TyPsrDSZxXrVVn9t2M5B1iL1",
      "include_colab_link": true
    },
    "kernelspec": {
      "name": "python3",
      "display_name": "Python 3"
    },
    "language_info": {
      "name": "python"
    }
  },
  "cells": [
    {
      "cell_type": "markdown",
      "metadata": {
        "id": "view-in-github",
        "colab_type": "text"
      },
      "source": [
        "<a href=\"https://colab.research.google.com/github/geleshChrsitUniversity/nikitadurasov-masksembles/blob/main/MaskEnsemble_FIX.ipynb\" target=\"_parent\"><img src=\"https://colab.research.google.com/assets/colab-badge.svg\" alt=\"Open In Colab\"/></a>"
      ]
    },
    {
      "cell_type": "code",
      "source": [
        "!ls"
      ],
      "metadata": {
        "colab": {
          "base_uri": "https://localhost:8080/"
        },
        "id": "4W0c0ufPLiS_",
        "outputId": "39683b42-3bc2-40c5-b5ba-228c162ef46e"
      },
      "execution_count": 2,
      "outputs": [
        {
          "output_type": "stream",
          "name": "stdout",
          "text": [
            "masksembles_latest  sample_data\n"
          ]
        }
      ]
    },
    {
      "cell_type": "code",
      "source": [
        "rm -rf masksembles_latest"
      ],
      "metadata": {
        "id": "LWYrkDprLkLo"
      },
      "execution_count": 3,
      "outputs": []
    },
    {
      "cell_type": "code",
      "execution_count": 4,
      "metadata": {
        "colab": {
          "base_uri": "https://localhost:8080/"
        },
        "id": "vliPLZNkLFho",
        "outputId": "4a02e77b-7fe2-4d44-9119-7e9b30ad3811"
      },
      "outputs": [
        {
          "output_type": "stream",
          "name": "stdout",
          "text": [
            "📥 Cloning latest masksembles repo...\n",
            "\n",
            "🐛 Running buggy Masksembles1D with incompatible input...\n",
            "✅ Expected failure from original implementation:\n",
            "Layer.add_weight() got multiple values for argument 'shape'\n",
            "\n",
            "🛠️ Running fixed Masksembles1D implementation...\n",
            "✅ Fixed layer ran successfully. Output shape: (8, 128)\n",
            "\n",
            "🎯 Summary:\n",
            " - Git clone ✅\n",
            " - Buggy version failed on incompatible shape ✅\n",
            " - Fixed version succeeded ✅\n"
          ]
        }
      ],
      "source": [
        "import os\n",
        "import sys\n",
        "import shutil\n",
        "import subprocess\n",
        "import tensorflow as tf\n",
        "import numpy as np\n",
        "\n",
        "REPO = \"https://github.com/nikitadurasov/masksembles.git\"\n",
        "CLONE_DIR = \"masksembles_latest\"\n",
        "\n",
        "# Step 1: Clone the repo\n",
        "print(\"📥 Cloning latest masksembles repo...\")\n",
        "if os.path.exists(CLONE_DIR):\n",
        "    shutil.rmtree(CLONE_DIR)\n",
        "subprocess.run([\"git\", \"clone\", \"--depth\", \"1\", REPO, CLONE_DIR], check=True)\n",
        "\n",
        "# Step 2: Add to sys.path to import their modules\n",
        "sys.path.insert(0, os.path.abspath(CLONE_DIR))\n",
        "\n",
        "# Step 3: Try running the original Masksembles1D\n",
        "print(\"\\n🐛 Running buggy Masksembles1D with incompatible input...\")\n",
        "try:\n",
        "    from masksembles.keras import Masksembles1D  # from original repo\n",
        "\n",
        "    buggy_layer = Masksembles1D(n=4, scale=2.0)\n",
        "    dummy_input = tf.random.normal((8, 128))  # Works ✅\n",
        "    buggy_layer(dummy_input)  # triggers build\n",
        "\n",
        "    dummy_input = tf.random.normal((8, 23))  # Should fail as of Today 6/24/2025\n",
        "    print(\"Trying incompatible input shape:\", dummy_input.shape)\n",
        "    buggy_layer(dummy_input)\n",
        "    print(\"❌ ERROR NOT RAISED — this should have failed.\")\n",
        "except Exception as e:\n",
        "    print(\"✅ Expected failure from original implementation:\")\n",
        "    print(e)\n",
        "\n",
        "# Step 4: Implement a fixed version\n",
        "print(\"\\n🛠️ Running fixed Masksembles1D implementation...\")\n",
        "\n",
        "class FixedMasksembles1D(tf.keras.layers.Layer):\n",
        "    def __init__(self, n=4, scale=2.0):\n",
        "        super().__init__()\n",
        "        self.n = n\n",
        "        self.scale = scale\n",
        "\n",
        "    def build(self, input_shape):\n",
        "        c = input_shape[-1]\n",
        "        if c % self.n != 0:\n",
        "            raise ValueError(f\"[FIXED] ❌ Cannot split {c} features into {self.n} masks.\")\n",
        "        self.chunk = c // self.n\n",
        "        self.masks = self.add_weight(\n",
        "            shape=(self.n, c),\n",
        "            initializer=tf.keras.initializers.Ones(),\n",
        "            trainable=False,\n",
        "            name=\"masks\"\n",
        "        )\n",
        "\n",
        "    def call(self, inputs, training=False):\n",
        "        x_chunks = tf.split(inputs, self.n, axis=1)\n",
        "        masked = []\n",
        "        for i in range(self.n):\n",
        "            mask_chunk = self.masks[i, i*self.chunk:(i+1)*self.chunk]\n",
        "            masked.append(x_chunks[i] * tf.reshape(mask_chunk, (1, -1)))\n",
        "        return tf.concat(masked, axis=1)\n",
        "\n",
        "try:\n",
        "    dummy_input = tf.random.normal((8, 128))\n",
        "    fixed_layer = FixedMasksembles1D(n=4)\n",
        "    out = fixed_layer(dummy_input)\n",
        "    print(\"✅ Fixed layer ran successfully. Output shape:\", out.shape)\n",
        "except Exception as e:\n",
        "    print(\"❌ FIXED version failed unexpectedly:\")\n",
        "    print(e)\n",
        "\n",
        "print(\"\\n🎯 Summary:\")\n",
        "print(\" - Git clone ✅\")\n",
        "print(\" - Buggy version failed on incompatible shape ✅\")\n",
        "print(\" - Fixed version succeeded ✅\")\n"
      ]
    }
  ]
}